{
 "cells": [
  {
   "cell_type": "markdown",
   "id": "b9283125",
   "metadata": {},
   "source": [
    "# Predicting the Price of Used Cars"
   ]
  },
  {
   "cell_type": "markdown",
   "id": "36c57a2d",
   "metadata": {},
   "source": [
    "### Importing libraries"
   ]
  },
  {
   "cell_type": "code",
   "execution_count": 1,
   "id": "6f9e171a",
   "metadata": {},
   "outputs": [],
   "source": [
    "import pandas as pd\n",
    "import numpy as np\n",
    "import matplotlib.pyplot as plt\n",
    "import seaborn as sns\n",
    "from sklearn.linear_model import Lasso\n",
    "from sklearn import metrics\n",
    "import warnings\n",
    "warnings.filterwarnings(\"ignore\")"
   ]
  },
  {
   "cell_type": "markdown",
   "id": "ed0dfc0a",
   "metadata": {},
   "source": [
    "## Data Preprocessing"
   ]
  },
  {
   "cell_type": "code",
   "execution_count": 2,
   "id": "72d41b79",
   "metadata": {},
   "outputs": [
    {
     "data": {
      "text/html": [
       "<div>\n",
       "<style scoped>\n",
       "    .dataframe tbody tr th:only-of-type {\n",
       "        vertical-align: middle;\n",
       "    }\n",
       "\n",
       "    .dataframe tbody tr th {\n",
       "        vertical-align: top;\n",
       "    }\n",
       "\n",
       "    .dataframe thead th {\n",
       "        text-align: right;\n",
       "    }\n",
       "</style>\n",
       "<table border=\"1\" class=\"dataframe\">\n",
       "  <thead>\n",
       "    <tr style=\"text-align: right;\">\n",
       "      <th></th>\n",
       "      <th>Car_Name</th>\n",
       "      <th>Year</th>\n",
       "      <th>Selling_Price</th>\n",
       "      <th>Present_Price</th>\n",
       "      <th>Kms_Driven</th>\n",
       "      <th>Fuel_Type</th>\n",
       "      <th>Seller_Type</th>\n",
       "      <th>Transmission</th>\n",
       "      <th>Owner</th>\n",
       "    </tr>\n",
       "  </thead>\n",
       "  <tbody>\n",
       "    <tr>\n",
       "      <th>0</th>\n",
       "      <td>ritz</td>\n",
       "      <td>2014</td>\n",
       "      <td>3.35</td>\n",
       "      <td>5.59</td>\n",
       "      <td>27000</td>\n",
       "      <td>Petrol</td>\n",
       "      <td>Dealer</td>\n",
       "      <td>Manual</td>\n",
       "      <td>0</td>\n",
       "    </tr>\n",
       "    <tr>\n",
       "      <th>1</th>\n",
       "      <td>sx4</td>\n",
       "      <td>2013</td>\n",
       "      <td>4.75</td>\n",
       "      <td>9.54</td>\n",
       "      <td>43000</td>\n",
       "      <td>Diesel</td>\n",
       "      <td>Dealer</td>\n",
       "      <td>Manual</td>\n",
       "      <td>0</td>\n",
       "    </tr>\n",
       "    <tr>\n",
       "      <th>2</th>\n",
       "      <td>ciaz</td>\n",
       "      <td>2017</td>\n",
       "      <td>7.25</td>\n",
       "      <td>9.85</td>\n",
       "      <td>6900</td>\n",
       "      <td>Petrol</td>\n",
       "      <td>Dealer</td>\n",
       "      <td>Manual</td>\n",
       "      <td>0</td>\n",
       "    </tr>\n",
       "    <tr>\n",
       "      <th>3</th>\n",
       "      <td>wagon r</td>\n",
       "      <td>2011</td>\n",
       "      <td>2.85</td>\n",
       "      <td>4.15</td>\n",
       "      <td>5200</td>\n",
       "      <td>Petrol</td>\n",
       "      <td>Dealer</td>\n",
       "      <td>Manual</td>\n",
       "      <td>0</td>\n",
       "    </tr>\n",
       "    <tr>\n",
       "      <th>4</th>\n",
       "      <td>swift</td>\n",
       "      <td>2014</td>\n",
       "      <td>4.60</td>\n",
       "      <td>6.87</td>\n",
       "      <td>42450</td>\n",
       "      <td>Diesel</td>\n",
       "      <td>Dealer</td>\n",
       "      <td>Manual</td>\n",
       "      <td>0</td>\n",
       "    </tr>\n",
       "  </tbody>\n",
       "</table>\n",
       "</div>"
      ],
      "text/plain": [
       "  Car_Name  Year  Selling_Price  Present_Price  Kms_Driven Fuel_Type  \\\n",
       "0     ritz  2014           3.35           5.59       27000    Petrol   \n",
       "1      sx4  2013           4.75           9.54       43000    Diesel   \n",
       "2     ciaz  2017           7.25           9.85        6900    Petrol   \n",
       "3  wagon r  2011           2.85           4.15        5200    Petrol   \n",
       "4    swift  2014           4.60           6.87       42450    Diesel   \n",
       "\n",
       "  Seller_Type Transmission  Owner  \n",
       "0      Dealer       Manual      0  \n",
       "1      Dealer       Manual      0  \n",
       "2      Dealer       Manual      0  \n",
       "3      Dealer       Manual      0  \n",
       "4      Dealer       Manual      0  "
      ]
     },
     "execution_count": 2,
     "metadata": {},
     "output_type": "execute_result"
    }
   ],
   "source": [
    "# Loading the data\n",
    "car_dataset = pd.read_csv(\"car data.csv\")\n",
    "car_dataset.head()"
   ]
  },
  {
   "cell_type": "code",
   "execution_count": 3,
   "id": "5157f1a2",
   "metadata": {},
   "outputs": [
    {
     "data": {
      "text/plain": [
       "(301, 9)"
      ]
     },
     "execution_count": 3,
     "metadata": {},
     "output_type": "execute_result"
    }
   ],
   "source": [
    "# Shape of the data \n",
    "car_dataset.shape"
   ]
  },
  {
   "cell_type": "code",
   "execution_count": 4,
   "id": "22b42723",
   "metadata": {},
   "outputs": [
    {
     "name": "stdout",
     "output_type": "stream",
     "text": [
      "<class 'pandas.core.frame.DataFrame'>\n",
      "RangeIndex: 301 entries, 0 to 300\n",
      "Data columns (total 9 columns):\n",
      " #   Column         Non-Null Count  Dtype  \n",
      "---  ------         --------------  -----  \n",
      " 0   Car_Name       301 non-null    object \n",
      " 1   Year           301 non-null    int64  \n",
      " 2   Selling_Price  301 non-null    float64\n",
      " 3   Present_Price  301 non-null    float64\n",
      " 4   Kms_Driven     301 non-null    int64  \n",
      " 5   Fuel_Type      301 non-null    object \n",
      " 6   Seller_Type    301 non-null    object \n",
      " 7   Transmission   301 non-null    object \n",
      " 8   Owner          301 non-null    int64  \n",
      "dtypes: float64(2), int64(3), object(4)\n",
      "memory usage: 21.3+ KB\n"
     ]
    }
   ],
   "source": [
    "# Dataframe information\n",
    "car_dataset.info()"
   ]
  },
  {
   "cell_type": "code",
   "execution_count": 5,
   "id": "087e4b3f",
   "metadata": {},
   "outputs": [
    {
     "name": "stdout",
     "output_type": "stream",
     "text": [
      "Petrol    239\n",
      "Diesel     60\n",
      "CNG         2\n",
      "Name: Fuel_Type, dtype: int64\n",
      "\n",
      "Dealer        195\n",
      "Individual    106\n",
      "Name: Seller_Type, dtype: int64\n",
      "\n",
      "Manual       261\n",
      "Automatic     40\n",
      "Name: Transmission, dtype: int64\n",
      "\n",
      "0    290\n",
      "1     10\n",
      "3      1\n",
      "Name: Owner, dtype: int64\n"
     ]
    }
   ],
   "source": [
    "# Exploring the columns\n",
    "print(car_dataset['Fuel_Type'].value_counts())\n",
    "print()\n",
    "print(car_dataset['Seller_Type'].value_counts())\n",
    "print()\n",
    "print(car_dataset['Transmission'].value_counts())\n",
    "print()\n",
    "print(car_dataset['Owner'].value_counts())"
   ]
  },
  {
   "cell_type": "code",
   "execution_count": 6,
   "id": "85bdaab3",
   "metadata": {},
   "outputs": [
    {
     "data": {
      "text/html": [
       "<div>\n",
       "<style scoped>\n",
       "    .dataframe tbody tr th:only-of-type {\n",
       "        vertical-align: middle;\n",
       "    }\n",
       "\n",
       "    .dataframe tbody tr th {\n",
       "        vertical-align: top;\n",
       "    }\n",
       "\n",
       "    .dataframe thead th {\n",
       "        text-align: right;\n",
       "    }\n",
       "</style>\n",
       "<table border=\"1\" class=\"dataframe\">\n",
       "  <thead>\n",
       "    <tr style=\"text-align: right;\">\n",
       "      <th></th>\n",
       "      <th>Car_Name</th>\n",
       "      <th>Year</th>\n",
       "      <th>Selling_Price</th>\n",
       "      <th>Present_Price</th>\n",
       "      <th>Kms_Driven</th>\n",
       "      <th>Fuel_Type</th>\n",
       "      <th>Seller_Type</th>\n",
       "      <th>Transmission</th>\n",
       "      <th>Owner</th>\n",
       "    </tr>\n",
       "  </thead>\n",
       "  <tbody>\n",
       "    <tr>\n",
       "      <th>count</th>\n",
       "      <td>301</td>\n",
       "      <td>301.000000</td>\n",
       "      <td>301.000000</td>\n",
       "      <td>301.000000</td>\n",
       "      <td>301.000000</td>\n",
       "      <td>301</td>\n",
       "      <td>301</td>\n",
       "      <td>301</td>\n",
       "      <td>301.000000</td>\n",
       "    </tr>\n",
       "    <tr>\n",
       "      <th>unique</th>\n",
       "      <td>98</td>\n",
       "      <td>NaN</td>\n",
       "      <td>NaN</td>\n",
       "      <td>NaN</td>\n",
       "      <td>NaN</td>\n",
       "      <td>3</td>\n",
       "      <td>2</td>\n",
       "      <td>2</td>\n",
       "      <td>NaN</td>\n",
       "    </tr>\n",
       "    <tr>\n",
       "      <th>top</th>\n",
       "      <td>city</td>\n",
       "      <td>NaN</td>\n",
       "      <td>NaN</td>\n",
       "      <td>NaN</td>\n",
       "      <td>NaN</td>\n",
       "      <td>Petrol</td>\n",
       "      <td>Dealer</td>\n",
       "      <td>Manual</td>\n",
       "      <td>NaN</td>\n",
       "    </tr>\n",
       "    <tr>\n",
       "      <th>freq</th>\n",
       "      <td>26</td>\n",
       "      <td>NaN</td>\n",
       "      <td>NaN</td>\n",
       "      <td>NaN</td>\n",
       "      <td>NaN</td>\n",
       "      <td>239</td>\n",
       "      <td>195</td>\n",
       "      <td>261</td>\n",
       "      <td>NaN</td>\n",
       "    </tr>\n",
       "    <tr>\n",
       "      <th>mean</th>\n",
       "      <td>NaN</td>\n",
       "      <td>2013.627907</td>\n",
       "      <td>4.661296</td>\n",
       "      <td>7.628472</td>\n",
       "      <td>36947.205980</td>\n",
       "      <td>NaN</td>\n",
       "      <td>NaN</td>\n",
       "      <td>NaN</td>\n",
       "      <td>0.043189</td>\n",
       "    </tr>\n",
       "    <tr>\n",
       "      <th>std</th>\n",
       "      <td>NaN</td>\n",
       "      <td>2.891554</td>\n",
       "      <td>5.082812</td>\n",
       "      <td>8.644115</td>\n",
       "      <td>38886.883882</td>\n",
       "      <td>NaN</td>\n",
       "      <td>NaN</td>\n",
       "      <td>NaN</td>\n",
       "      <td>0.247915</td>\n",
       "    </tr>\n",
       "    <tr>\n",
       "      <th>min</th>\n",
       "      <td>NaN</td>\n",
       "      <td>2003.000000</td>\n",
       "      <td>0.100000</td>\n",
       "      <td>0.320000</td>\n",
       "      <td>500.000000</td>\n",
       "      <td>NaN</td>\n",
       "      <td>NaN</td>\n",
       "      <td>NaN</td>\n",
       "      <td>0.000000</td>\n",
       "    </tr>\n",
       "    <tr>\n",
       "      <th>25%</th>\n",
       "      <td>NaN</td>\n",
       "      <td>2012.000000</td>\n",
       "      <td>0.900000</td>\n",
       "      <td>1.200000</td>\n",
       "      <td>15000.000000</td>\n",
       "      <td>NaN</td>\n",
       "      <td>NaN</td>\n",
       "      <td>NaN</td>\n",
       "      <td>0.000000</td>\n",
       "    </tr>\n",
       "    <tr>\n",
       "      <th>50%</th>\n",
       "      <td>NaN</td>\n",
       "      <td>2014.000000</td>\n",
       "      <td>3.600000</td>\n",
       "      <td>6.400000</td>\n",
       "      <td>32000.000000</td>\n",
       "      <td>NaN</td>\n",
       "      <td>NaN</td>\n",
       "      <td>NaN</td>\n",
       "      <td>0.000000</td>\n",
       "    </tr>\n",
       "    <tr>\n",
       "      <th>75%</th>\n",
       "      <td>NaN</td>\n",
       "      <td>2016.000000</td>\n",
       "      <td>6.000000</td>\n",
       "      <td>9.900000</td>\n",
       "      <td>48767.000000</td>\n",
       "      <td>NaN</td>\n",
       "      <td>NaN</td>\n",
       "      <td>NaN</td>\n",
       "      <td>0.000000</td>\n",
       "    </tr>\n",
       "    <tr>\n",
       "      <th>max</th>\n",
       "      <td>NaN</td>\n",
       "      <td>2018.000000</td>\n",
       "      <td>35.000000</td>\n",
       "      <td>92.600000</td>\n",
       "      <td>500000.000000</td>\n",
       "      <td>NaN</td>\n",
       "      <td>NaN</td>\n",
       "      <td>NaN</td>\n",
       "      <td>3.000000</td>\n",
       "    </tr>\n",
       "  </tbody>\n",
       "</table>\n",
       "</div>"
      ],
      "text/plain": [
       "       Car_Name         Year  Selling_Price  Present_Price     Kms_Driven  \\\n",
       "count       301   301.000000     301.000000     301.000000     301.000000   \n",
       "unique       98          NaN            NaN            NaN            NaN   \n",
       "top        city          NaN            NaN            NaN            NaN   \n",
       "freq         26          NaN            NaN            NaN            NaN   \n",
       "mean        NaN  2013.627907       4.661296       7.628472   36947.205980   \n",
       "std         NaN     2.891554       5.082812       8.644115   38886.883882   \n",
       "min         NaN  2003.000000       0.100000       0.320000     500.000000   \n",
       "25%         NaN  2012.000000       0.900000       1.200000   15000.000000   \n",
       "50%         NaN  2014.000000       3.600000       6.400000   32000.000000   \n",
       "75%         NaN  2016.000000       6.000000       9.900000   48767.000000   \n",
       "max         NaN  2018.000000      35.000000      92.600000  500000.000000   \n",
       "\n",
       "       Fuel_Type Seller_Type Transmission       Owner  \n",
       "count        301         301          301  301.000000  \n",
       "unique         3           2            2         NaN  \n",
       "top       Petrol      Dealer       Manual         NaN  \n",
       "freq         239         195          261         NaN  \n",
       "mean         NaN         NaN          NaN    0.043189  \n",
       "std          NaN         NaN          NaN    0.247915  \n",
       "min          NaN         NaN          NaN    0.000000  \n",
       "25%          NaN         NaN          NaN    0.000000  \n",
       "50%          NaN         NaN          NaN    0.000000  \n",
       "75%          NaN         NaN          NaN    0.000000  \n",
       "max          NaN         NaN          NaN    3.000000  "
      ]
     },
     "execution_count": 6,
     "metadata": {},
     "output_type": "execute_result"
    }
   ],
   "source": [
    "car_dataset.describe(include='all')"
   ]
  },
  {
   "cell_type": "markdown",
   "id": "410929f2",
   "metadata": {},
   "source": [
    "## Check for any missing value in data set and treat it"
   ]
  },
  {
   "cell_type": "code",
   "execution_count": 7,
   "id": "de9021db",
   "metadata": {},
   "outputs": [
    {
     "data": {
      "text/plain": [
       "Car_Name         0\n",
       "Year             0\n",
       "Selling_Price    0\n",
       "Present_Price    0\n",
       "Kms_Driven       0\n",
       "Fuel_Type        0\n",
       "Seller_Type      0\n",
       "Transmission     0\n",
       "Owner            0\n",
       "dtype: int64"
      ]
     },
     "execution_count": 7,
     "metadata": {},
     "output_type": "execute_result"
    }
   ],
   "source": [
    "car_dataset.isnull().sum()"
   ]
  },
  {
   "cell_type": "markdown",
   "id": "5bc9dc69",
   "metadata": {},
   "source": [
    "It's good that we don't have any null values in our data"
   ]
  },
  {
   "cell_type": "code",
   "execution_count": 8,
   "id": "d7aa8677",
   "metadata": {},
   "outputs": [],
   "source": [
    "# to know how old the car is we subtract current year with the year in which the car was bought\n",
    "car_dataset['Years_old'] = 2020 - car_dataset.Year\n",
    "\n",
    "#It's time to drop the Year column after the needed info is derived.\n",
    "car_dataset.drop(['Year'],axis=1,inplace=True)"
   ]
  },
  {
   "cell_type": "code",
   "execution_count": 9,
   "id": "7a974f45",
   "metadata": {
    "scrolled": true
   },
   "outputs": [
    {
     "data": {
      "text/html": [
       "<div>\n",
       "<style scoped>\n",
       "    .dataframe tbody tr th:only-of-type {\n",
       "        vertical-align: middle;\n",
       "    }\n",
       "\n",
       "    .dataframe tbody tr th {\n",
       "        vertical-align: top;\n",
       "    }\n",
       "\n",
       "    .dataframe thead th {\n",
       "        text-align: right;\n",
       "    }\n",
       "</style>\n",
       "<table border=\"1\" class=\"dataframe\">\n",
       "  <thead>\n",
       "    <tr style=\"text-align: right;\">\n",
       "      <th></th>\n",
       "      <th>Car_Name</th>\n",
       "      <th>Selling_Price</th>\n",
       "      <th>Present_Price</th>\n",
       "      <th>Kms_Driven</th>\n",
       "      <th>Fuel_Type</th>\n",
       "      <th>Seller_Type</th>\n",
       "      <th>Transmission</th>\n",
       "      <th>Owner</th>\n",
       "      <th>Years_old</th>\n",
       "    </tr>\n",
       "  </thead>\n",
       "  <tbody>\n",
       "    <tr>\n",
       "      <th>0</th>\n",
       "      <td>ritz</td>\n",
       "      <td>3.35</td>\n",
       "      <td>5.59</td>\n",
       "      <td>27000</td>\n",
       "      <td>Petrol</td>\n",
       "      <td>Dealer</td>\n",
       "      <td>Manual</td>\n",
       "      <td>0</td>\n",
       "      <td>6</td>\n",
       "    </tr>\n",
       "    <tr>\n",
       "      <th>1</th>\n",
       "      <td>sx4</td>\n",
       "      <td>4.75</td>\n",
       "      <td>9.54</td>\n",
       "      <td>43000</td>\n",
       "      <td>Diesel</td>\n",
       "      <td>Dealer</td>\n",
       "      <td>Manual</td>\n",
       "      <td>0</td>\n",
       "      <td>7</td>\n",
       "    </tr>\n",
       "    <tr>\n",
       "      <th>2</th>\n",
       "      <td>ciaz</td>\n",
       "      <td>7.25</td>\n",
       "      <td>9.85</td>\n",
       "      <td>6900</td>\n",
       "      <td>Petrol</td>\n",
       "      <td>Dealer</td>\n",
       "      <td>Manual</td>\n",
       "      <td>0</td>\n",
       "      <td>3</td>\n",
       "    </tr>\n",
       "    <tr>\n",
       "      <th>3</th>\n",
       "      <td>wagon r</td>\n",
       "      <td>2.85</td>\n",
       "      <td>4.15</td>\n",
       "      <td>5200</td>\n",
       "      <td>Petrol</td>\n",
       "      <td>Dealer</td>\n",
       "      <td>Manual</td>\n",
       "      <td>0</td>\n",
       "      <td>9</td>\n",
       "    </tr>\n",
       "    <tr>\n",
       "      <th>4</th>\n",
       "      <td>swift</td>\n",
       "      <td>4.60</td>\n",
       "      <td>6.87</td>\n",
       "      <td>42450</td>\n",
       "      <td>Diesel</td>\n",
       "      <td>Dealer</td>\n",
       "      <td>Manual</td>\n",
       "      <td>0</td>\n",
       "      <td>6</td>\n",
       "    </tr>\n",
       "  </tbody>\n",
       "</table>\n",
       "</div>"
      ],
      "text/plain": [
       "  Car_Name  Selling_Price  Present_Price  Kms_Driven Fuel_Type Seller_Type  \\\n",
       "0     ritz           3.35           5.59       27000    Petrol      Dealer   \n",
       "1      sx4           4.75           9.54       43000    Diesel      Dealer   \n",
       "2     ciaz           7.25           9.85        6900    Petrol      Dealer   \n",
       "3  wagon r           2.85           4.15        5200    Petrol      Dealer   \n",
       "4    swift           4.60           6.87       42450    Diesel      Dealer   \n",
       "\n",
       "  Transmission  Owner  Years_old  \n",
       "0       Manual      0          6  \n",
       "1       Manual      0          7  \n",
       "2       Manual      0          3  \n",
       "3       Manual      0          9  \n",
       "4       Manual      0          6  "
      ]
     },
     "execution_count": 9,
     "metadata": {},
     "output_type": "execute_result"
    }
   ],
   "source": [
    "car_dataset.head()"
   ]
  },
  {
   "cell_type": "markdown",
   "id": "242c8eb9",
   "metadata": {},
   "source": [
    "# Data Exploration"
   ]
  },
  {
   "cell_type": "code",
   "execution_count": 10,
   "id": "3cda479b",
   "metadata": {},
   "outputs": [
    {
     "data": {
      "image/png": "[encoded data removed]",
      "text/plain": [
       "<Figure size 1224x360 with 3 Axes>"
      ]
     },
     "metadata": {
      "needs_background": "light"
     },
     "output_type": "display_data"
    }
   ],
   "source": [
    "# Checking relation of target variable (Sellling_Price) with Seller_Type, Transmission, and Fuel_Type through visualization\n",
    "plt.figure(figsize=[17,5])\n",
    "plt.subplot(1,3,1)\n",
    "sns.barplot(car_dataset['Seller_Type'], car_dataset['Selling_Price'])\n",
    "plt.title('Selling Price Vs Seller Type')\n",
    "\n",
    "plt.subplot(1,3,2)\n",
    "sns.barplot(car_dataset['Transmission'],car_dataset['Selling_Price'])\n",
    "plt.title('Selling Price Vs Transmission')\n",
    "\n",
    "plt.subplot(1,3,3)\n",
    "sns.barplot(car_dataset['Fuel_Type'],car_dataset['Selling_Price'])\n",
    "plt.title('Selling Price Vs Fuel Type')\n",
    "\n",
    "plt.show()"
   ]
  },
  {
   "cell_type": "markdown",
   "id": "6883ee48",
   "metadata": {},
   "source": [
    "   - Cars sold by Dealers seems to have higher Selling_Prices as compared to Individuals.\n",
    "   - It can be observed that Selling Price would be higher for cars that are Automatic as compared to Manual.\n",
    "   - Those cars which have fuel type as Diesel seems to have higher prices as compared to Petrol and CNG."
   ]
  },
  {
   "cell_type": "code",
   "execution_count": 11,
   "id": "87b6573c",
   "metadata": {},
   "outputs": [
    {
     "data": {
      "image/png": "[encoded data removed]",
      "text/plain": [
       "<Figure size 1224x360 with 3 Axes>"
      ]
     },
     "metadata": {
      "needs_background": "light"
     },
     "output_type": "display_data"
    }
   ],
   "source": [
    "plt.figure(figsize=[17,5])\n",
    "plt.subplot(1,3,1)\n",
    "sns.barplot(car_dataset['Owner'],car_dataset['Selling_Price'])\n",
    "\n",
    "plt.subplot(1,3,2)\n",
    "sns.barplot(car_dataset['Years_old'],car_dataset['Selling_Price'])\n",
    "\n",
    "plt.subplot(1,3,3)\n",
    "sns.regplot(car_dataset['Selling_Price'],car_dataset['Kms_Driven'])\n",
    "plt.show()"
   ]
  },
  {
   "cell_type": "markdown",
   "id": "c269b2f6",
   "metadata": {},
   "source": [
    "   - Selling price seems higher with less Owners used cars.\n",
    "   - Selling Price decreses gradually as the year increases, from 4 years old to 19 years old.\n",
    "   - Lesser the Kms driven higher the Selling Price."
   ]
  },
  {
   "cell_type": "code",
   "execution_count": 12,
   "id": "81d918e6",
   "metadata": {
    "scrolled": false
   },
   "outputs": [
    {
     "data": {
      "image/png": "[encoded data removed]",
      "text/plain": [
       "<Figure size 1224x360 with 2 Axes>"
      ]
     },
     "metadata": {
      "needs_background": "light"
     },
     "output_type": "display_data"
    }
   ],
   "source": [
    "plt.figure(figsize=[17,5])\n",
    "plt.subplot(1,2,1)\n",
    "sns.regplot(car_dataset['Selling_Price'],car_dataset['Present_Price'])\n",
    "\n",
    "plt.subplot(1,2,2)\n",
    "sns.distplot(np.log(car_dataset['Selling_Price']))\n",
    "plt.title('Distribution of Selling Price')\n",
    "\n",
    "plt.show()"
   ]
  },
  {
   "cell_type": "markdown",
   "id": "27f9e160",
   "metadata": {},
   "source": [
    "   - Selleing price tends to increase as present price."
   ]
  },
  {
   "cell_type": "markdown",
   "id": "d4ac0e81",
   "metadata": {},
   "source": [
    "##### Dealing With Categorical Variables"
   ]
  },
  {
   "cell_type": "code",
   "execution_count": 13,
   "id": "7d6b2fd3",
   "metadata": {},
   "outputs": [],
   "source": [
    "# Droping the car name column as its hard to implement and use in regression problem with many unique entries.\n",
    "car_dataset = car_dataset.drop(['Car_Name'],axis=1)"
   ]
  },
  {
   "cell_type": "code",
   "execution_count": 14,
   "id": "17b24cf6",
   "metadata": {},
   "outputs": [
    {
     "data": {
      "text/html": [
       "<div>\n",
       "<style scoped>\n",
       "    .dataframe tbody tr th:only-of-type {\n",
       "        vertical-align: middle;\n",
       "    }\n",
       "\n",
       "    .dataframe tbody tr th {\n",
       "        vertical-align: top;\n",
       "    }\n",
       "\n",
       "    .dataframe thead th {\n",
       "        text-align: right;\n",
       "    }\n",
       "</style>\n",
       "<table border=\"1\" class=\"dataframe\">\n",
       "  <thead>\n",
       "    <tr style=\"text-align: right;\">\n",
       "      <th></th>\n",
       "      <th>Selling_Price</th>\n",
       "      <th>Present_Price</th>\n",
       "      <th>Kms_Driven</th>\n",
       "      <th>Owner</th>\n",
       "      <th>Years_old</th>\n",
       "      <th>Fuel_Type_Diesel</th>\n",
       "      <th>Fuel_Type_Petrol</th>\n",
       "      <th>Seller_Type_Individual</th>\n",
       "      <th>Transmission_Manual</th>\n",
       "    </tr>\n",
       "  </thead>\n",
       "  <tbody>\n",
       "    <tr>\n",
       "      <th>0</th>\n",
       "      <td>3.35</td>\n",
       "      <td>5.59</td>\n",
       "      <td>27000</td>\n",
       "      <td>0</td>\n",
       "      <td>6</td>\n",
       "      <td>0</td>\n",
       "      <td>1</td>\n",
       "      <td>0</td>\n",
       "      <td>1</td>\n",
       "    </tr>\n",
       "    <tr>\n",
       "      <th>1</th>\n",
       "      <td>4.75</td>\n",
       "      <td>9.54</td>\n",
       "      <td>43000</td>\n",
       "      <td>0</td>\n",
       "      <td>7</td>\n",
       "      <td>1</td>\n",
       "      <td>0</td>\n",
       "      <td>0</td>\n",
       "      <td>1</td>\n",
       "    </tr>\n",
       "    <tr>\n",
       "      <th>2</th>\n",
       "      <td>7.25</td>\n",
       "      <td>9.85</td>\n",
       "      <td>6900</td>\n",
       "      <td>0</td>\n",
       "      <td>3</td>\n",
       "      <td>0</td>\n",
       "      <td>1</td>\n",
       "      <td>0</td>\n",
       "      <td>1</td>\n",
       "    </tr>\n",
       "    <tr>\n",
       "      <th>3</th>\n",
       "      <td>2.85</td>\n",
       "      <td>4.15</td>\n",
       "      <td>5200</td>\n",
       "      <td>0</td>\n",
       "      <td>9</td>\n",
       "      <td>0</td>\n",
       "      <td>1</td>\n",
       "      <td>0</td>\n",
       "      <td>1</td>\n",
       "    </tr>\n",
       "    <tr>\n",
       "      <th>4</th>\n",
       "      <td>4.60</td>\n",
       "      <td>6.87</td>\n",
       "      <td>42450</td>\n",
       "      <td>0</td>\n",
       "      <td>6</td>\n",
       "      <td>1</td>\n",
       "      <td>0</td>\n",
       "      <td>0</td>\n",
       "      <td>1</td>\n",
       "    </tr>\n",
       "  </tbody>\n",
       "</table>\n",
       "</div>"
      ],
      "text/plain": [
       "   Selling_Price  Present_Price  Kms_Driven  Owner  Years_old  \\\n",
       "0           3.35           5.59       27000      0          6   \n",
       "1           4.75           9.54       43000      0          7   \n",
       "2           7.25           9.85        6900      0          3   \n",
       "3           2.85           4.15        5200      0          9   \n",
       "4           4.60           6.87       42450      0          6   \n",
       "\n",
       "   Fuel_Type_Diesel  Fuel_Type_Petrol  Seller_Type_Individual  \\\n",
       "0                 0                 1                       0   \n",
       "1                 1                 0                       0   \n",
       "2                 0                 1                       0   \n",
       "3                 0                 1                       0   \n",
       "4                 1                 0                       0   \n",
       "\n",
       "   Transmission_Manual  \n",
       "0                    1  \n",
       "1                    1  \n",
       "2                    1  \n",
       "3                    1  \n",
       "4                    1  "
      ]
     },
     "execution_count": 14,
     "metadata": {},
     "output_type": "execute_result"
    }
   ],
   "source": [
    "# One Hot Encoding to treat Categorical data parameters(turns your categorical data into a binary vector representation)\n",
    "newCar_dataset = pd.get_dummies(car_dataset,drop_first = True)\n",
    "newCar_dataset.head()"
   ]
  },
  {
   "cell_type": "markdown",
   "id": "67fc59d1",
   "metadata": {},
   "source": [
    "# Checking multicollinearity using VIF "
   ]
  },
  {
   "cell_type": "code",
   "execution_count": 15,
   "id": "a302dda8",
   "metadata": {},
   "outputs": [
    {
     "data": {
      "text/html": [
       "<div>\n",
       "<style scoped>\n",
       "    .dataframe tbody tr th:only-of-type {\n",
       "        vertical-align: middle;\n",
       "    }\n",
       "\n",
       "    .dataframe tbody tr th {\n",
       "        vertical-align: top;\n",
       "    }\n",
       "\n",
       "    .dataframe thead th {\n",
       "        text-align: right;\n",
       "    }\n",
       "</style>\n",
       "<table border=\"1\" class=\"dataframe\">\n",
       "  <thead>\n",
       "    <tr style=\"text-align: right;\">\n",
       "      <th></th>\n",
       "      <th>Features</th>\n",
       "      <th>VIF</th>\n",
       "    </tr>\n",
       "  </thead>\n",
       "  <tbody>\n",
       "    <tr>\n",
       "      <th>0</th>\n",
       "      <td>Present_Price</td>\n",
       "      <td>3.201728</td>\n",
       "    </tr>\n",
       "    <tr>\n",
       "      <th>1</th>\n",
       "      <td>Kms_Driven</td>\n",
       "      <td>2.892026</td>\n",
       "    </tr>\n",
       "    <tr>\n",
       "      <th>2</th>\n",
       "      <td>Owner</td>\n",
       "      <td>1.087990</td>\n",
       "    </tr>\n",
       "    <tr>\n",
       "      <th>3</th>\n",
       "      <td>Years_old</td>\n",
       "      <td>8.540393</td>\n",
       "    </tr>\n",
       "    <tr>\n",
       "      <th>4</th>\n",
       "      <td>Fuel_Type_Diesel</td>\n",
       "      <td>4.714762</td>\n",
       "    </tr>\n",
       "    <tr>\n",
       "      <th>5</th>\n",
       "      <td>Fuel_Type_Petrol</td>\n",
       "      <td>13.341429</td>\n",
       "    </tr>\n",
       "    <tr>\n",
       "      <th>6</th>\n",
       "      <td>Seller_Type_Individual</td>\n",
       "      <td>2.230179</td>\n",
       "    </tr>\n",
       "    <tr>\n",
       "      <th>7</th>\n",
       "      <td>Transmission_Manual</td>\n",
       "      <td>8.368965</td>\n",
       "    </tr>\n",
       "  </tbody>\n",
       "</table>\n",
       "</div>"
      ],
      "text/plain": [
       "                 Features        VIF\n",
       "0           Present_Price   3.201728\n",
       "1              Kms_Driven   2.892026\n",
       "2                   Owner   1.087990\n",
       "3               Years_old   8.540393\n",
       "4        Fuel_Type_Diesel   4.714762\n",
       "5        Fuel_Type_Petrol  13.341429\n",
       "6  Seller_Type_Individual   2.230179\n",
       "7     Transmission_Manual   8.368965"
      ]
     },
     "execution_count": 15,
     "metadata": {},
     "output_type": "execute_result"
    }
   ],
   "source": [
    "from statsmodels.stats.outliers_influence import variance_inflation_factor\n",
    "features = newCar_dataset.iloc[:,1:]\n",
    "\n",
    "vif = pd.DataFrame()\n",
    "vif['Features'] = features.columns\n",
    "vif['VIF'] = [variance_inflation_factor(features.values,i) for i in range(features.shape[1])]\n",
    "vif"
   ]
  },
  {
   "cell_type": "code",
   "execution_count": 16,
   "id": "c1806e89",
   "metadata": {},
   "outputs": [
    {
     "data": {
      "text/plain": [
       "Selling_Price             1.000000\n",
       "Present_Price             0.878983\n",
       "Fuel_Type_Diesel          0.552339\n",
       "Kms_Driven                0.029187\n",
       "Owner                    -0.088344\n",
       "Years_old                -0.236141\n",
       "Transmission_Manual      -0.367128\n",
       "Fuel_Type_Petrol         -0.540571\n",
       "Seller_Type_Individual   -0.550724\n",
       "Name: Selling_Price, dtype: float64"
      ]
     },
     "execution_count": 16,
     "metadata": {},
     "output_type": "execute_result"
    }
   ],
   "source": [
    "# Years_old and Fuel_Type_Petrol feature has high VIF, now we will see pairwise correlation between variables.\n",
    "corr_matrix = newCar_dataset.corr()\n",
    "corr_matrix['Selling_Price'].sort_values(ascending=False)"
   ]
  },
  {
   "cell_type": "code",
   "execution_count": 17,
   "id": "b0cd0211",
   "metadata": {},
   "outputs": [],
   "source": [
    "# We can see in pairwise correlation that Fuel_Type_Petrol and Kms_Driven has lower value as compare to Years_old,\n",
    "# so we will drop those columns.\n",
    "newCar_dataset = newCar_dataset.drop(['Fuel_Type_Petrol','Kms_Driven'],axis=1)"
   ]
  },
  {
   "cell_type": "code",
   "execution_count": 18,
   "id": "bc65f4cb",
   "metadata": {
    "scrolled": true
   },
   "outputs": [
    {
     "data": {
      "text/html": [
       "<div>\n",
       "<style scoped>\n",
       "    .dataframe tbody tr th:only-of-type {\n",
       "        vertical-align: middle;\n",
       "    }\n",
       "\n",
       "    .dataframe tbody tr th {\n",
       "        vertical-align: top;\n",
       "    }\n",
       "\n",
       "    .dataframe thead th {\n",
       "        text-align: right;\n",
       "    }\n",
       "</style>\n",
       "<table border=\"1\" class=\"dataframe\">\n",
       "  <thead>\n",
       "    <tr style=\"text-align: right;\">\n",
       "      <th></th>\n",
       "      <th>Features</th>\n",
       "      <th>VIF</th>\n",
       "    </tr>\n",
       "  </thead>\n",
       "  <tbody>\n",
       "    <tr>\n",
       "      <th>0</th>\n",
       "      <td>Present_Price</td>\n",
       "      <td>2.456996</td>\n",
       "    </tr>\n",
       "    <tr>\n",
       "      <th>1</th>\n",
       "      <td>Owner</td>\n",
       "      <td>1.084141</td>\n",
       "    </tr>\n",
       "    <tr>\n",
       "      <th>2</th>\n",
       "      <td>Years_old</td>\n",
       "      <td>4.810633</td>\n",
       "    </tr>\n",
       "    <tr>\n",
       "      <th>3</th>\n",
       "      <td>Fuel_Type_Diesel</td>\n",
       "      <td>1.658039</td>\n",
       "    </tr>\n",
       "    <tr>\n",
       "      <th>4</th>\n",
       "      <td>Seller_Type_Individual</td>\n",
       "      <td>1.864471</td>\n",
       "    </tr>\n",
       "    <tr>\n",
       "      <th>5</th>\n",
       "      <td>Transmission_Manual</td>\n",
       "      <td>3.964982</td>\n",
       "    </tr>\n",
       "  </tbody>\n",
       "</table>\n",
       "</div>"
      ],
      "text/plain": [
       "                 Features       VIF\n",
       "0           Present_Price  2.456996\n",
       "1                   Owner  1.084141\n",
       "2               Years_old  4.810633\n",
       "3        Fuel_Type_Diesel  1.658039\n",
       "4  Seller_Type_Individual  1.864471\n",
       "5     Transmission_Manual  3.964982"
      ]
     },
     "execution_count": 18,
     "metadata": {},
     "output_type": "execute_result"
    }
   ],
   "source": [
    "# Checking again after removing correlated feature\n",
    "from statsmodels.stats.outliers_influence import variance_inflation_factor\n",
    "features = newCar_dataset.iloc[:,1:]\n",
    "\n",
    "vif = pd.DataFrame()\n",
    "vif['Features'] = features.columns\n",
    "vif['VIF'] = [variance_inflation_factor(features.values,i) for i in range(features.shape[1])]\n",
    "vif"
   ]
  },
  {
   "cell_type": "markdown",
   "id": "40f715f8",
   "metadata": {},
   "source": [
    "   - Now its look good, We have VIF < 5 and hence there is no Multicollinearity occurrence in our model."
   ]
  },
  {
   "cell_type": "code",
   "execution_count": 19,
   "id": "d402c31d",
   "metadata": {},
   "outputs": [
    {
     "name": "stdout",
     "output_type": "stream",
     "text": [
      "(301, 6)\n",
      "(301,)\n"
     ]
    }
   ],
   "source": [
    "X = newCar_dataset.drop('Selling_Price', axis = 1)\n",
    "Y = newCar_dataset['Selling_Price']\n",
    "print(X.shape)\n",
    "print(Y.shape)"
   ]
  },
  {
   "cell_type": "markdown",
   "id": "8f6632e3",
   "metadata": {},
   "source": [
    "##### Checking for important features"
   ]
  },
  {
   "cell_type": "code",
   "execution_count": 20,
   "id": "af2dd25c",
   "metadata": {},
   "outputs": [
    {
     "data": {
      "text/plain": [
       "ExtraTreesRegressor()"
      ]
     },
     "execution_count": 20,
     "metadata": {},
     "output_type": "execute_result"
    }
   ],
   "source": [
    "# Feature importance gives you a score for each feature of your data, the higher the score more important or relevant \n",
    "# is the feature towards our Target variable.\n",
    "from sklearn.ensemble import ExtraTreesRegressor\n",
    "model = ExtraTreesRegressor()\n",
    "model.fit(X,Y)"
   ]
  },
  {
   "cell_type": "code",
   "execution_count": 21,
   "id": "9c9f06de",
   "metadata": {},
   "outputs": [
    {
     "data": {
      "text/plain": [
       "array([0.39705888, 0.00090707, 0.10575324, 0.23096687, 0.13556798,\n",
       "       0.12974596])"
      ]
     },
     "execution_count": 21,
     "metadata": {},
     "output_type": "execute_result"
    }
   ],
   "source": [
    "model.feature_importances_"
   ]
  },
  {
   "cell_type": "code",
   "execution_count": 22,
   "id": "1853bc4c",
   "metadata": {
    "scrolled": false
   },
   "outputs": [
    {
     "data": {
      "text/plain": [
       "<AxesSubplot:>"
      ]
     },
     "execution_count": 22,
     "metadata": {},
     "output_type": "execute_result"
    },
    {
     "data": {
      "image/png": "[encoded data removed]",
      "text/plain": [
       "<Figure size 432x288 with 1 Axes>"
      ]
     },
     "metadata": {
      "needs_background": "light"
     },
     "output_type": "display_data"
    }
   ],
   "source": [
    "pd.Series(model.feature_importances_,index=X.columns).plot(kind='bar',alpha=0.75,rot=90)"
   ]
  },
  {
   "cell_type": "markdown",
   "id": "627ddf9a",
   "metadata": {},
   "source": [
    "# Model Evaluation"
   ]
  },
  {
   "cell_type": "markdown",
   "id": "b7da5916",
   "metadata": {},
   "source": [
    "##### Train - Test splitting"
   ]
  },
  {
   "cell_type": "code",
   "execution_count": 23,
   "id": "1a0c051a",
   "metadata": {
    "scrolled": true
   },
   "outputs": [],
   "source": [
    "from sklearn.model_selection import train_test_split\n",
    "X_train, X_test, Y_train, Y_test = train_test_split(X,Y,test_size = 0.1,random_state = 42)"
   ]
  },
  {
   "cell_type": "code",
   "execution_count": 24,
   "id": "fb40c2b3",
   "metadata": {},
   "outputs": [
    {
     "data": {
      "text/html": [
       "<div>\n",
       "<style scoped>\n",
       "    .dataframe tbody tr th:only-of-type {\n",
       "        vertical-align: middle;\n",
       "    }\n",
       "\n",
       "    .dataframe tbody tr th {\n",
       "        vertical-align: top;\n",
       "    }\n",
       "\n",
       "    .dataframe thead th {\n",
       "        text-align: right;\n",
       "    }\n",
       "</style>\n",
       "<table border=\"1\" class=\"dataframe\">\n",
       "  <thead>\n",
       "    <tr style=\"text-align: right;\">\n",
       "      <th></th>\n",
       "      <th>Present_Price</th>\n",
       "      <th>Owner</th>\n",
       "      <th>Years_old</th>\n",
       "      <th>Fuel_Type_Diesel</th>\n",
       "      <th>Seller_Type_Individual</th>\n",
       "      <th>Transmission_Manual</th>\n",
       "    </tr>\n",
       "  </thead>\n",
       "  <tbody>\n",
       "    <tr>\n",
       "      <th>282</th>\n",
       "      <td>14.00</td>\n",
       "      <td>0</td>\n",
       "      <td>6</td>\n",
       "      <td>1</td>\n",
       "      <td>0</td>\n",
       "      <td>1</td>\n",
       "    </tr>\n",
       "    <tr>\n",
       "      <th>163</th>\n",
       "      <td>0.95</td>\n",
       "      <td>0</td>\n",
       "      <td>10</td>\n",
       "      <td>0</td>\n",
       "      <td>1</td>\n",
       "      <td>1</td>\n",
       "    </tr>\n",
       "    <tr>\n",
       "      <th>42</th>\n",
       "      <td>7.15</td>\n",
       "      <td>0</td>\n",
       "      <td>12</td>\n",
       "      <td>0</td>\n",
       "      <td>0</td>\n",
       "      <td>1</td>\n",
       "    </tr>\n",
       "    <tr>\n",
       "      <th>17</th>\n",
       "      <td>10.79</td>\n",
       "      <td>0</td>\n",
       "      <td>4</td>\n",
       "      <td>1</td>\n",
       "      <td>0</td>\n",
       "      <td>1</td>\n",
       "    </tr>\n",
       "    <tr>\n",
       "      <th>266</th>\n",
       "      <td>7.00</td>\n",
       "      <td>0</td>\n",
       "      <td>6</td>\n",
       "      <td>0</td>\n",
       "      <td>0</td>\n",
       "      <td>1</td>\n",
       "    </tr>\n",
       "  </tbody>\n",
       "</table>\n",
       "</div>"
      ],
      "text/plain": [
       "     Present_Price  Owner  Years_old  Fuel_Type_Diesel  \\\n",
       "282          14.00      0          6                 1   \n",
       "163           0.95      0         10                 0   \n",
       "42            7.15      0         12                 0   \n",
       "17           10.79      0          4                 1   \n",
       "266           7.00      0          6                 0   \n",
       "\n",
       "     Seller_Type_Individual  Transmission_Manual  \n",
       "282                       0                    1  \n",
       "163                       1                    1  \n",
       "42                        0                    1  \n",
       "17                        0                    1  \n",
       "266                       0                    1  "
      ]
     },
     "execution_count": 24,
     "metadata": {},
     "output_type": "execute_result"
    }
   ],
   "source": [
    "X_train.head()"
   ]
  },
  {
   "cell_type": "markdown",
   "id": "84a3e6c3",
   "metadata": {},
   "source": [
    "# Selecting a desired model for DragonRealEstates"
   ]
  },
  {
   "cell_type": "markdown",
   "id": "314ace3e",
   "metadata": {},
   "source": [
    "# 1 - Linear Regression"
   ]
  },
  {
   "cell_type": "code",
   "execution_count": 25,
   "id": "d2a25d58",
   "metadata": {},
   "outputs": [
    {
     "name": "stdout",
     "output_type": "stream",
     "text": [
      "R_squared : 0.8833645728428189\n",
      "RMSE : 1.7711334279164754\n"
     ]
    }
   ],
   "source": [
    "from sklearn.linear_model import LinearRegression\n",
    "#loading Linear Regression Model\n",
    "lin_reg_model = LinearRegression()\n",
    "\n",
    "lin_reg_model.fit(X_train,Y_train)\n",
    "\n",
    "#Prediction on Testing Data\n",
    "training_data_prediction_lr = lin_reg_model.predict(X_train)\n",
    "\n",
    "#R squarred error for our model evaluation\n",
    "error_score = metrics.r2_score(Y_train,training_data_prediction_lr)\n",
    "rmse = np.sqrt(metrics.mean_squared_error(Y_train,training_data_prediction_lr))\n",
    "print(\"R_squared :\",error_score)\n",
    "print(\"RMSE :\",rmse)"
   ]
  },
  {
   "cell_type": "markdown",
   "id": "ecefb3e5",
   "metadata": {},
   "source": [
    "# 2 - Random Forest Regressor"
   ]
  },
  {
   "cell_type": "code",
   "execution_count": 26,
   "id": "6d656439",
   "metadata": {},
   "outputs": [
    {
     "name": "stdout",
     "output_type": "stream",
     "text": [
      "R_squared : 0.988641371953766\n",
      "RMSE : 0.5527121058584226\n"
     ]
    }
   ],
   "source": [
    "from sklearn.ensemble import RandomForestRegressor\n",
    "rf_model = RandomForestRegressor()\n",
    "\n",
    "# Training Model\n",
    "rf_model.fit(X_train,Y_train)\n",
    "\n",
    "# Model Summary\n",
    "training_data_prediction_rf = rf_model.predict(X_train)\n",
    "\n",
    "#R squarred error for our model evaluation\n",
    "error_score = metrics.r2_score(Y_train,training_data_prediction_rf)\n",
    "rmse = np.sqrt(metrics.mean_squared_error(Y_train,training_data_prediction_rf))\n",
    "print(\"R_squared :\",error_score)\n",
    "print(\"RMSE :\",rmse)"
   ]
  },
  {
   "cell_type": "markdown",
   "id": "7560cf68",
   "metadata": {},
   "source": [
    "# 3 - Lasso regression"
   ]
  },
  {
   "cell_type": "code",
   "execution_count": 27,
   "id": "dfd73dd8",
   "metadata": {},
   "outputs": [
    {
     "name": "stdout",
     "output_type": "stream",
     "text": [
      "R_squared : 0.8449110465301957\n",
      "RMSE : 2.0423326037869014\n"
     ]
    }
   ],
   "source": [
    "#loading Lasso Regression Model\n",
    "lasso_reg_model = Lasso()\n",
    "\n",
    "lasso_reg_model.fit(X_train,Y_train)\n",
    "\n",
    "#Prediction on Traing Data\n",
    "training_data_prediction_lasso = lasso_reg_model.predict(X_train)\n",
    "\n",
    "#R squarred error for our model evaluation\n",
    "error_score = metrics.r2_score(Y_train,training_data_prediction_lasso)\n",
    "rmse = np.sqrt(metrics.mean_squared_error(Y_train,training_data_prediction_lasso))\n",
    "print(\"R_squared :\",error_score)\n",
    "print(\"RMSE :\",rmse)"
   ]
  },
  {
   "cell_type": "code",
   "execution_count": 28,
   "id": "537a319d",
   "metadata": {},
   "outputs": [],
   "source": [
    "some_data = X_train.iloc[:5]\n",
    "some_labels = Y_train.iloc[:5]"
   ]
  },
  {
   "cell_type": "code",
   "execution_count": 29,
   "id": "647f035a",
   "metadata": {},
   "outputs": [
    {
     "data": {
      "text/plain": [
       "array([8.5015    , 0.45925   , 2.106     , 7.817     , 3.87329167])"
      ]
     },
     "execution_count": 29,
     "metadata": {},
     "output_type": "execute_result"
    }
   ],
   "source": [
    "rf_model.predict(some_data)"
   ]
  },
  {
   "cell_type": "code",
   "execution_count": 30,
   "id": "171e6260",
   "metadata": {
    "scrolled": true
   },
   "outputs": [
    {
     "data": {
      "text/plain": [
       "[8.25, 0.45, 1.95, 7.75, 3.65]"
      ]
     },
     "execution_count": 30,
     "metadata": {},
     "output_type": "execute_result"
    }
   ],
   "source": [
    "list(some_labels)"
   ]
  },
  {
   "cell_type": "markdown",
   "id": "7ee960ac",
   "metadata": {},
   "source": [
    "##### *So as we tried diferent Regression Alorithms and found that \"Random Forest Regressor Model\" is giving better accuracy compare to other.*"
   ]
  },
  {
   "cell_type": "markdown",
   "id": "a018c836",
   "metadata": {},
   "source": [
    "# Hyperparameter optimization using RandomizedSearchCV"
   ]
  },
  {
   "cell_type": "code",
   "execution_count": 31,
   "id": "153ab06d",
   "metadata": {},
   "outputs": [
    {
     "name": "stdout",
     "output_type": "stream",
     "text": [
      "{'n_estimators': [100, 200, 300, 400, 500, 600, 700, 800, 900, 1000, 1100, 1200], 'max_features': ['auto', 'sqrt'], 'max_depth': [5, 10, 15, 20, 25, 30], 'min_samples_split': [2, 5, 10, 15, 100], 'min_samples_leaf': [1, 2, 5, 10]}\n"
     ]
    }
   ],
   "source": [
    "from sklearn.model_selection import RandomizedSearchCV\n",
    "\n",
    "# Number of trees in random forest\n",
    "n_estimators = [int(x) for x in np.linspace(start=100, stop=1200,num=12)]\n",
    "# Number of features to consider at every split\n",
    "max_features = ['auto','sqrt']\n",
    "# Maximum distance between root to leaf node\n",
    "max_depth = [int(x) for x in np.linspace(5,30,num=6)]\n",
    "# Minimum number of samples required to split a node\n",
    "min_samples_split = [2,5,10,15,100]\n",
    "# Minimum number of samples required at each leaf node\n",
    "min_samples_leaf = [1,2,5,10]\n",
    "\n",
    "random_grid = {'n_estimators':n_estimators,\n",
    "              'max_features':max_features,\n",
    "              'max_depth':max_depth,\n",
    "              'min_samples_split':min_samples_split,\n",
    "              'min_samples_leaf':min_samples_leaf}\n",
    "print(random_grid)"
   ]
  },
  {
   "cell_type": "code",
   "execution_count": 32,
   "id": "7f7b99fd",
   "metadata": {},
   "outputs": [],
   "source": [
    "# Random search of parameters\n",
    "rf_randomized = RandomizedSearchCV(estimator = rf_model, param_distributions = random_grid, n_iter = 10, cv = 5,verbose = 2, random_state = 42, n_jobs = 1)"
   ]
  },
  {
   "cell_type": "code",
   "execution_count": 33,
   "id": "cddee271",
   "metadata": {
    "scrolled": false
   },
   "outputs": [
    {
     "name": "stdout",
     "output_type": "stream",
     "text": [
      "Fitting 5 folds for each of 10 candidates, totalling 50 fits\n",
      "[CV] END max_depth=10, max_features=sqrt, min_samples_leaf=5, min_samples_split=5, n_estimators=900; total time=   1.4s\n",
      "[CV] END max_depth=10, max_features=sqrt, min_samples_leaf=5, min_samples_split=5, n_estimators=900; total time=   1.4s\n",
      "[CV] END max_depth=10, max_features=sqrt, min_samples_leaf=5, min_samples_split=5, n_estimators=900; total time=   1.3s\n",
      "[CV] END max_depth=10, max_features=sqrt, min_samples_leaf=5, min_samples_split=5, n_estimators=900; total time=   1.1s\n",
      "[CV] END max_depth=10, max_features=sqrt, min_samples_leaf=5, min_samples_split=5, n_estimators=900; total time=   1.1s\n",
      "[CV] END max_depth=15, max_features=sqrt, min_samples_leaf=2, min_samples_split=10, n_estimators=1100; total time=   1.5s\n",
      "[CV] END max_depth=15, max_features=sqrt, min_samples_leaf=2, min_samples_split=10, n_estimators=1100; total time=   1.5s\n",
      "[CV] END max_depth=15, max_features=sqrt, min_samples_leaf=2, min_samples_split=10, n_estimators=1100; total time=   1.6s\n",
      "[CV] END max_depth=15, max_features=sqrt, min_samples_leaf=2, min_samples_split=10, n_estimators=1100; total time=   1.6s\n",
      "[CV] END max_depth=15, max_features=sqrt, min_samples_leaf=2, min_samples_split=10, n_estimators=1100; total time=   1.4s\n",
      "[CV] END max_depth=15, max_features=auto, min_samples_leaf=5, min_samples_split=100, n_estimators=300; total time=   0.3s\n",
      "[CV] END max_depth=15, max_features=auto, min_samples_leaf=5, min_samples_split=100, n_estimators=300; total time=   0.3s\n",
      "[CV] END max_depth=15, max_features=auto, min_samples_leaf=5, min_samples_split=100, n_estimators=300; total time=   0.3s\n",
      "[CV] END max_depth=15, max_features=auto, min_samples_leaf=5, min_samples_split=100, n_estimators=300; total time=   0.3s\n",
      "[CV] END max_depth=15, max_features=auto, min_samples_leaf=5, min_samples_split=100, n_estimators=300; total time=   0.3s\n",
      "[CV] END max_depth=15, max_features=auto, min_samples_leaf=5, min_samples_split=5, n_estimators=400; total time=   0.5s\n",
      "[CV] END max_depth=15, max_features=auto, min_samples_leaf=5, min_samples_split=5, n_estimators=400; total time=   0.5s\n",
      "[CV] END max_depth=15, max_features=auto, min_samples_leaf=5, min_samples_split=5, n_estimators=400; total time=   0.5s\n",
      "[CV] END max_depth=15, max_features=auto, min_samples_leaf=5, min_samples_split=5, n_estimators=400; total time=   0.5s\n",
      "[CV] END max_depth=15, max_features=auto, min_samples_leaf=5, min_samples_split=5, n_estimators=400; total time=   0.5s\n",
      "[CV] END max_depth=20, max_features=auto, min_samples_leaf=10, min_samples_split=5, n_estimators=700; total time=   0.9s\n",
      "[CV] END max_depth=20, max_features=auto, min_samples_leaf=10, min_samples_split=5, n_estimators=700; total time=   0.9s\n",
      "[CV] END max_depth=20, max_features=auto, min_samples_leaf=10, min_samples_split=5, n_estimators=700; total time=   0.9s\n",
      "[CV] END max_depth=20, max_features=auto, min_samples_leaf=10, min_samples_split=5, n_estimators=700; total time=   0.9s\n",
      "[CV] END max_depth=20, max_features=auto, min_samples_leaf=10, min_samples_split=5, n_estimators=700; total time=   0.9s\n",
      "[CV] END max_depth=25, max_features=sqrt, min_samples_leaf=1, min_samples_split=2, n_estimators=1000; total time=   1.4s\n",
      "[CV] END max_depth=25, max_features=sqrt, min_samples_leaf=1, min_samples_split=2, n_estimators=1000; total time=   1.4s\n",
      "[CV] END max_depth=25, max_features=sqrt, min_samples_leaf=1, min_samples_split=2, n_estimators=1000; total time=   1.4s\n",
      "[CV] END max_depth=25, max_features=sqrt, min_samples_leaf=1, min_samples_split=2, n_estimators=1000; total time=   1.4s\n",
      "[CV] END max_depth=25, max_features=sqrt, min_samples_leaf=1, min_samples_split=2, n_estimators=1000; total time=   1.4s\n",
      "[CV] END max_depth=5, max_features=sqrt, min_samples_leaf=10, min_samples_split=15, n_estimators=1100; total time=   1.4s\n",
      "[CV] END max_depth=5, max_features=sqrt, min_samples_leaf=10, min_samples_split=15, n_estimators=1100; total time=   1.4s\n",
      "[CV] END max_depth=5, max_features=sqrt, min_samples_leaf=10, min_samples_split=15, n_estimators=1100; total time=   1.4s\n",
      "[CV] END max_depth=5, max_features=sqrt, min_samples_leaf=10, min_samples_split=15, n_estimators=1100; total time=   1.4s\n",
      "[CV] END max_depth=5, max_features=sqrt, min_samples_leaf=10, min_samples_split=15, n_estimators=1100; total time=   1.4s\n",
      "[CV] END max_depth=15, max_features=sqrt, min_samples_leaf=1, min_samples_split=15, n_estimators=300; total time=   0.3s\n",
      "[CV] END max_depth=15, max_features=sqrt, min_samples_leaf=1, min_samples_split=15, n_estimators=300; total time=   0.3s\n",
      "[CV] END max_depth=15, max_features=sqrt, min_samples_leaf=1, min_samples_split=15, n_estimators=300; total time=   0.3s\n",
      "[CV] END max_depth=15, max_features=sqrt, min_samples_leaf=1, min_samples_split=15, n_estimators=300; total time=   0.3s\n",
      "[CV] END max_depth=15, max_features=sqrt, min_samples_leaf=1, min_samples_split=15, n_estimators=300; total time=   0.3s\n",
      "[CV] END max_depth=5, max_features=sqrt, min_samples_leaf=2, min_samples_split=10, n_estimators=700; total time=   0.9s\n",
      "[CV] END max_depth=5, max_features=sqrt, min_samples_leaf=2, min_samples_split=10, n_estimators=700; total time=   0.9s\n",
      "[CV] END max_depth=5, max_features=sqrt, min_samples_leaf=2, min_samples_split=10, n_estimators=700; total time=   0.9s\n",
      "[CV] END max_depth=5, max_features=sqrt, min_samples_leaf=2, min_samples_split=10, n_estimators=700; total time=   0.9s\n",
      "[CV] END max_depth=5, max_features=sqrt, min_samples_leaf=2, min_samples_split=10, n_estimators=700; total time=   0.9s\n",
      "[CV] END max_depth=20, max_features=auto, min_samples_leaf=1, min_samples_split=15, n_estimators=700; total time=   1.0s\n",
      "[CV] END max_depth=20, max_features=auto, min_samples_leaf=1, min_samples_split=15, n_estimators=700; total time=   1.0s\n",
      "[CV] END max_depth=20, max_features=auto, min_samples_leaf=1, min_samples_split=15, n_estimators=700; total time=   1.0s\n",
      "[CV] END max_depth=20, max_features=auto, min_samples_leaf=1, min_samples_split=15, n_estimators=700; total time=   0.9s\n",
      "[CV] END max_depth=20, max_features=auto, min_samples_leaf=1, min_samples_split=15, n_estimators=700; total time=   0.9s\n"
     ]
    },
    {
     "data": {
      "text/plain": [
       "RandomizedSearchCV(cv=5, estimator=RandomForestRegressor(), n_jobs=1,\n",
       "                   param_distributions={'max_depth': [5, 10, 15, 20, 25, 30],\n",
       "                                        'max_features': ['auto', 'sqrt'],\n",
       "                                        'min_samples_leaf': [1, 2, 5, 10],\n",
       "                                        'min_samples_split': [2, 5, 10, 15,\n",
       "                                                              100],\n",
       "                                        'n_estimators': [100, 200, 300, 400,\n",
       "                                                         500, 600, 700, 800,\n",
       "                                                         900, 1000, 1100,\n",
       "                                                         1200]},\n",
       "                   random_state=42, verbose=2)"
      ]
     },
     "execution_count": 33,
     "metadata": {},
     "output_type": "execute_result"
    }
   ],
   "source": [
    "rf_randomized.fit(X_train,Y_train)"
   ]
  },
  {
   "cell_type": "code",
   "execution_count": 34,
   "id": "f6e36c8c",
   "metadata": {},
   "outputs": [
    {
     "data": {
      "text/plain": [
       "{'n_estimators': 1000,\n",
       " 'min_samples_split': 2,\n",
       " 'min_samples_leaf': 1,\n",
       " 'max_features': 'sqrt',\n",
       " 'max_depth': 25}"
      ]
     },
     "execution_count": 34,
     "metadata": {},
     "output_type": "execute_result"
    }
   ],
   "source": [
    "# Checking the best parameters for our model\n",
    "rf_randomized.best_params_"
   ]
  },
  {
   "cell_type": "code",
   "execution_count": 35,
   "id": "28fcd5eb",
   "metadata": {},
   "outputs": [],
   "source": [
    "rf_randomized_predictions = rf_randomized.predict(X_train)"
   ]
  },
  {
   "cell_type": "code",
   "execution_count": 36,
   "id": "75d8e86f",
   "metadata": {},
   "outputs": [
    {
     "name": "stdout",
     "output_type": "stream",
     "text": [
      "R_squared : 0.9829625990327112\n",
      "RMSE : 0.6769205677079533\n"
     ]
    }
   ],
   "source": [
    "#R squarred error for our model evaluation\n",
    "error_score = metrics.r2_score(Y_train,rf_randomized_predictions)\n",
    "rmse = np.sqrt(metrics.mean_squared_error(Y_train,rf_randomized_predictions))\n",
    "print(\"R_squared :\",error_score)\n",
    "print(\"RMSE :\",rmse)"
   ]
  },
  {
   "cell_type": "markdown",
   "id": "c69d6b55",
   "metadata": {},
   "source": [
    "# Testing the model on test data"
   ]
  },
  {
   "cell_type": "code",
   "execution_count": 37,
   "id": "099d9a04",
   "metadata": {},
   "outputs": [
    {
     "name": "stdout",
     "output_type": "stream",
     "text": [
      "R_squared : 0.9265840546092761\n",
      "RMSE : 1.0463983270332748\n"
     ]
    }
   ],
   "source": [
    "final_predictions = rf_randomized.predict(X_test)\n",
    "error_score = metrics.r2_score(Y_test,final_predictions)\n",
    "rmse = np.sqrt(metrics.mean_squared_error(Y_test,final_predictions))\n",
    "print(\"R_squared :\",error_score)\n",
    "print(\"RMSE :\",rmse)"
   ]
  },
  {
   "cell_type": "markdown",
   "id": "d484e916",
   "metadata": {},
   "source": [
    "#### Visualization of our model predictions data"
   ]
  },
  {
   "cell_type": "code",
   "execution_count": 38,
   "id": "cc8ed54d",
   "metadata": {
    "scrolled": false
   },
   "outputs": [
    {
     "data": {
      "image/png": "[encoded data removed]",
      "text/plain": [
       "<Figure size 432x288 with 1 Axes>"
      ]
     },
     "metadata": {
      "needs_background": "light"
     },
     "output_type": "display_data"
    }
   ],
   "source": [
    "plt.scatter(Y_test,final_predictions)\n",
    "plt.xlabel(\"Actual Price\")\n",
    "plt.ylabel(\"Predicted Price\")\n",
    "plt.title(\"Actual Prices vs Predicted Price\")\n",
    "plt.show()"
   ]
  },
  {
   "cell_type": "markdown",
   "id": "d9411227",
   "metadata": {},
   "source": [
    "# Saving the model"
   ]
  },
  {
   "cell_type": "code",
   "execution_count": 39,
   "id": "da92e2aa",
   "metadata": {},
   "outputs": [],
   "source": [
    "import pickle\n",
    "pickle.dump(rf_randomized, open('carPricePrediction', 'wb'))\n",
    "\n",
    "# Loading the model to use it.\n",
    "model = pickle.load(open('carPricePrediction','rb'))"
   ]
  },
  {
   "cell_type": "markdown",
   "id": "294793ee",
   "metadata": {},
   "source": [
    "# Using the model"
   ]
  },
  {
   "cell_type": "code",
   "execution_count": 40,
   "id": "04d965e3",
   "metadata": {},
   "outputs": [],
   "source": [
    "def predictions(PresentPrice,YearsOld,Owner,FuelType,SellerType,TransmissionManual):\n",
    "    price = float(PresentPrice)\n",
    "    age = int(YearsOld)\n",
    "    owner = int(Owner)\n",
    "    fuel = int(FuelType)\n",
    "    Seller = int(SellerType)\n",
    "    trans = int(TransmissionManual)\n",
    "    \n",
    "    return model.predict([[price,age,owner,fuel,Seller,trans]])"
   ]
  },
  {
   "cell_type": "code",
   "execution_count": 41,
   "id": "a2ed22a8",
   "metadata": {},
   "outputs": [
    {
     "data": {
      "text/plain": [
       "array([10.4951465])"
      ]
     },
     "execution_count": 41,
     "metadata": {},
     "output_type": "execute_result"
    }
   ],
   "source": [
    "predictions(25, 14,1, 0, 2, 0)"
   ]
  },
  {
   "cell_type": "code",
   "execution_count": 42,
   "id": "e1f91609",
   "metadata": {
    "scrolled": true
   },
   "outputs": [
    {
     "data": {
      "text/plain": [
       "array([5.20619333])"
      ]
     },
     "execution_count": 42,
     "metadata": {},
     "output_type": "execute_result"
    }
   ],
   "source": [
    "predictions(14, 4,1, 0, 1, 1)"
   ]
  },
  {
   "cell_type": "markdown",
   "id": "d6b5dcd6",
   "metadata": {},
   "source": [
    "# Conclusions"
   ]
  },
  {
   "cell_type": "markdown",
   "id": "c654f8a2",
   "metadata": {},
   "source": [
    "- Present price of a car plays an important role in predicting Selling Price, One increases the other gradually increases.\n",
    "- Car age is effecting negatively as older the car lesser the Selling Price.\n",
    "- Selling Price of cars with Fuel type Diesel is higher.\n",
    "- Car of Manual type is of less priced whereas of Automatic type is high.\n",
    "- Cars sold by Individual tend to get less Selling Price when sold by Dealers."
   ]
  }
 ],
 "metadata": {
  "kernelspec": {
   "display_name": "Python 3",
   "language": "python",
   "name": "python3"
  },
  "language_info": {
   "codemirror_mode": {
    "name": "ipython",
    "version": 3
   },
   "file_extension": ".py",
   "mimetype": "text/x-python",
   "name": "python",
   "nbconvert_exporter": "python",
   "pygments_lexer": "ipython3",
   "version": "3.8.8"
  }
 },
 "nbformat": 4,
 "nbformat_minor": 5
}
